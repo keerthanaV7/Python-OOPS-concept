{
 "cells": [
  {
   "cell_type": "markdown",
   "metadata": {},
   "source": [
    "#### The concept of OOPS in Python focuses on Code reusability.The code reusability can be easily achieved by creating classes and objects.\n",
    "\n",
    "class is a collection of objects/blueprint for the object.It is used to create user-defined data structures."
   ]
  },
  {
   "cell_type": "code",
   "execution_count": 1,
   "metadata": {},
   "outputs": [],
   "source": [
    "class Company:\n",
    "    pass"
   ]
  },
  {
   "cell_type": "markdown",
   "metadata": {},
   "source": [
    "###### Here, we use class keyword to define an empty class company.From class, we construct instances. An instance is a specific object created from a particular class"
   ]
  },
  {
   "cell_type": "markdown",
   "metadata": {},
   "source": [
    "Object is an instantiation of a class.When class is defined, only the description for the object is defined.Therefore, no memory or storage is allocated."
   ]
  },
  {
   "cell_type": "code",
   "execution_count": 2,
   "metadata": {},
   "outputs": [],
   "source": [
    "obj = Company()\n",
    "\n",
    "## Here obj is an object of class Company"
   ]
  },
  {
   "cell_type": "markdown",
   "metadata": {},
   "source": [
    "### 1. Creating class and object in Python"
   ]
  },
  {
   "cell_type": "code",
   "execution_count": 3,
   "metadata": {},
   "outputs": [
    {
     "name": "stdout",
     "output_type": "stream",
     "text": [
      "abc company is \"Lifescience\" domain\n",
      "xyz company is \"Lifescience\" domain\n",
      "\n",
      "\n",
      "abc company is 1996 year old\n",
      "xyz company is 1980 year old\n"
     ]
    }
   ],
   "source": [
    "class Company:\n",
    "    \n",
    "    #class attribute\n",
    "    domain = 'Lifescience'\n",
    "    \n",
    "    def __init__(self,name,found_year):\n",
    "        self.name = name\n",
    "        self.found_year = found_year\n",
    "        \n",
    "#instantiate the Company class\n",
    "\n",
    "abc = Company(\"abc\",1996)\n",
    "xyz = Company(\"xyz\",1980)\n",
    "\n",
    "#access the class attributes\n",
    "\n",
    "print(\"abc company is \\\"{}\\\" domain\".format(abc.__class__.domain))\n",
    "print(\"xyz company is \\\"{}\\\" domain\".format(xyz.__class__.domain))\n",
    "\n",
    "print(\"\\n\")\n",
    "#access the instance attributes\n",
    "\n",
    "print(\"{} company is {} year old\".format(abc.name,abc.found_year))\n",
    "print(\"{} company is {} year old\".format(xyz.name,xyz.found_year))"
   ]
  },
  {
   "cell_type": "markdown",
   "metadata": {},
   "source": [
    "### 2. Creating Methods in Python\n",
    "\n",
    "Methods are functions defined inside the body of a class. Methods are used to define the behaviors of an object."
   ]
  },
  {
   "cell_type": "code",
   "execution_count": 4,
   "metadata": {},
   "outputs": [
    {
     "name": "stdout",
     "output_type": "stream",
     "text": [
      "abc has  \"5\"  working days in a week\n",
      "abc company is currently recruiting \"Data Scientist\" post\n"
     ]
    }
   ],
   "source": [
    "class Company:\n",
    "    \n",
    "    #instance attributes\n",
    "    def __init__(self,name,found_year):\n",
    "        self.name = name\n",
    "        self.found_year = found_year\n",
    "    \n",
    "    #instance method\n",
    "    def working_days(self,d_count):\n",
    "        return \"{} has  \\\"{}\\\"  working days in a week\".format(self.name,d_count)\n",
    "    \n",
    "    def recruiting_post(self,r_post):\n",
    "        return \"{} company is currently recruiting \\\"{}\\\" post\".format(self.name,r_post)\n",
    "    \n",
    "#instantiate the object\n",
    "abc = Company(\"abc\",1996)\n",
    "\n",
    "## call the instance methods\n",
    "print(abc.working_days(\"5\"))\n",
    "print(abc.recruiting_post(\"Data Scientist\"))\n"
   ]
  },
  {
   "cell_type": "markdown",
   "metadata": {},
   "source": [
    "### 3. Inheritance\n",
    "\n",
    "Using inheritance you can inherit the properties of parent class to the child class, without changing the properties of parent class."
   ]
  },
  {
   "cell_type": "code",
   "execution_count": 5,
   "metadata": {},
   "outputs": [
    {
     "name": "stdout",
     "output_type": "stream",
     "text": [
      "Health care company\n",
      "Company Rank is 1\n",
      "Company name is \"ABC\"\n",
      "Product name is xyz\n"
     ]
    }
   ],
   "source": [
    "#parent class\n",
    "class health_care_cmpy():\n",
    "    \n",
    "    def __init__(self):\n",
    "        print(\"Health care company\")\n",
    "    \n",
    "    def products(self):\n",
    "        print(\"We deliver health care products\")\n",
    "        \n",
    "        \n",
    "#child class\n",
    "\n",
    "class cmpy_1(health_care_cmpy):\n",
    "    \n",
    "    def __init__(self):\n",
    "        super().__init__()\n",
    "        print(\"Company Rank is 1\")\n",
    "        \n",
    "    def name(self):\n",
    "        print(\"Company name is \\\"ABC\\\"\")\n",
    "        \n",
    "    def products(self):\n",
    "        print(\"Product name is xyz\")\n",
    "        \n",
    "obj = cmpy_1()\n",
    "obj.name()\n",
    "obj.products()\n"
   ]
  },
  {
   "cell_type": "markdown",
   "metadata": {},
   "source": [
    "### 4. Encapsulation\n",
    "\n",
    "Using Encapsulation we can restrict the access to the methods and variables.This prevents the data from direct changes/modification which is called encapsulation.In Python, we denote private attributes using underscore as the prefix\n",
    "i.e single '_' or double '__'"
   ]
  },
  {
   "cell_type": "code",
   "execution_count": 6,
   "metadata": {},
   "outputs": [
    {
     "name": "stdout",
     "output_type": "stream",
     "text": [
      "Net worth of the company is 100k$\n",
      "Net worth of the company is 100k$\n",
      "Net worth of the company is 200k$\n"
     ]
    }
   ],
   "source": [
    "class Company():\n",
    "    \n",
    "    def __init__(self):\n",
    "        self.__networth = \"100k$\"\n",
    "        \n",
    "    def networth(self):\n",
    "        print(\"Net worth of the company is {}\".format(self.__networth))\n",
    "        \n",
    "    def networth_rise(self,rise):\n",
    "        self.__networth = rise\n",
    "        \n",
    "        \n",
    "c = Company()\n",
    "c.networth()     \n",
    "\n",
    "#Rise in networth\n",
    "c.__networth = '200k$'\n",
    "c.networth()\n",
    "\n",
    "#Using setter function\n",
    "c.networth_rise('200k$')\n",
    "c.networth()"
   ]
  },
  {
   "cell_type": "markdown",
   "metadata": {},
   "source": [
    "### 5. Polymorphism\n",
    "\n",
    "Polymorphism helps us to use different classes can be used with same interface"
   ]
  },
  {
   "cell_type": "code",
   "execution_count": 7,
   "metadata": {},
   "outputs": [
    {
     "name": "stdout",
     "output_type": "stream",
     "text": [
      "Company Rank is 1\n",
      "Company Rank is 2\n",
      "Company name is \"ABC\"\n",
      "Company name is \"DEF\"\n"
     ]
    }
   ],
   "source": [
    "class cmpy_1():\n",
    "    \n",
    "    def __init__(self):\n",
    "        super().__init__()\n",
    "        print(\"Company Rank is 1\")\n",
    "        \n",
    "    def name(self):\n",
    "        print(\"Company name is \\\"ABC\\\"\")\n",
    "        \n",
    "    def products(self):\n",
    "        print(\"Product name is xyz\")\n",
    "        \n",
    "        \n",
    "class cmpy_2():\n",
    "    \n",
    "    def __init__(self):\n",
    "        super().__init__()\n",
    "        print(\"Company Rank is 2\")\n",
    "        \n",
    "    def name(self):\n",
    "        print(\"Company name is \\\"DEF\\\"\")\n",
    "        \n",
    "    def products(self):\n",
    "        print(\"Product name is aaa\")\n",
    "        \n",
    "#common interface\n",
    "\n",
    "def health_care_cmpy(cmpy_name):\n",
    "    cmpy_name.name()\n",
    "    \n",
    "#instantiate objects\n",
    "c1 = cmpy_1()\n",
    "c2 = cmpy_2()\n",
    "        \n",
    "#passing the objects\n",
    "health_care_cmpy(c1)\n",
    "health_care_cmpy(c2)"
   ]
  },
  {
   "cell_type": "markdown",
   "metadata": {},
   "source": [
    "### 5. Advantages of using OOPs concept"
   ]
  },
  {
   "cell_type": "markdown",
   "metadata": {},
   "source": [
    "Object-Oriented Programming helps you to understand the program with ease.\n",
    "\n",
    "Using inheritance,the code can be reused.\n",
    "\n",
    "With data abstraction, the data will be safe and secure.\n",
    "\n",
    "Polymorphism allows the same interface for the different objects, so code can be written effectively.\n"
   ]
  },
  {
   "cell_type": "code",
   "execution_count": null,
   "metadata": {},
   "outputs": [],
   "source": []
  },
  {
   "cell_type": "code",
   "execution_count": null,
   "metadata": {},
   "outputs": [],
   "source": []
  },
  {
   "cell_type": "code",
   "execution_count": null,
   "metadata": {},
   "outputs": [],
   "source": []
  },
  {
   "cell_type": "code",
   "execution_count": null,
   "metadata": {},
   "outputs": [],
   "source": []
  },
  {
   "cell_type": "code",
   "execution_count": null,
   "metadata": {},
   "outputs": [],
   "source": []
  }
 ],
 "metadata": {
  "kernelspec": {
   "display_name": "Python 3",
   "language": "python",
   "name": "python3"
  },
  "language_info": {
   "codemirror_mode": {
    "name": "ipython",
    "version": 3
   },
   "file_extension": ".py",
   "mimetype": "text/x-python",
   "name": "python",
   "nbconvert_exporter": "python",
   "pygments_lexer": "ipython3",
   "version": "3.8.3"
  }
 },
 "nbformat": 4,
 "nbformat_minor": 4
}
